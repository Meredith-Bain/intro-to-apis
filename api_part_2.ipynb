{
 "cells": [
  {
   "cell_type": "markdown",
   "metadata": {},
   "source": [
    "# Using the Census API"
   ]
  },
  {
   "cell_type": "code",
   "execution_count": 17,
   "metadata": {},
   "outputs": [
    {
     "data": {
      "text/plain": [
       "[['NAME', 'B01001_001E', 'state', 'county'],\n",
       " ['Barrow County, Georgia', '89299', '13', '013'],\n",
       " ['Bartow County, Georgia', '112816', '13', '015'],\n",
       " ['Bibb County, Georgia', '156197', '13', '021'],\n",
       " ['Bulloch County, Georgia', '83059', '13', '031'],\n",
       " ['Carroll County, Georgia', '124592', '13', '045'],\n",
       " ['Catoosa County, Georgia', '68826', '13', '047'],\n",
       " ['Chatham County, Georgia', '301107', '13', '051'],\n",
       " ['Cherokee County, Georgia', '281278', '13', '057'],\n",
       " ['Clarke County, Georgia', '129875', '13', '059'],\n",
       " ['Clayton County, Georgia', '296564', '13', '063'],\n",
       " ['Cobb County, Georgia', '771952', '13', '067'],\n",
       " ['Columbia County, Georgia', '162419', '13', '073'],\n",
       " ['Coweta County, Georgia', '152882', '13', '077'],\n",
       " ['DeKalb County, Georgia', '762820', '13', '089'],\n",
       " ['Dougherty County, Georgia', '82966', '13', '095'],\n",
       " ['Douglas County, Georgia', '147316', '13', '097'],\n",
       " ['Effingham County, Georgia', '69041', '13', '103'],\n",
       " ['Fayette County, Georgia', '122030', '13', '113'],\n",
       " ['Floyd County, Georgia', '99443', '13', '115'],\n",
       " ['Forsyth County, Georgia', '267237', '13', '117'],\n",
       " ['Fulton County, Georgia', '1074634', '13', '121'],\n",
       " ['Glynn County, Georgia', '85079', '13', '127'],\n",
       " ['Gwinnett County, Georgia', '975353', '13', '135'],\n",
       " ['Hall County, Georgia', '212692', '13', '139'],\n",
       " ['Henry County, Georgia', '248364', '13', '151'],\n",
       " ['Houston County, Georgia', '169631', '13', '153'],\n",
       " ['Jackson County, Georgia', '83936', '13', '157'],\n",
       " ['Liberty County, Georgia', '68030', '13', '179'],\n",
       " ['Lowndes County, Georgia', '119739', '13', '185'],\n",
       " ['Muscogee County, Georgia', '202616', '13', '215'],\n",
       " ['Newton County, Georgia', '117621', '13', '217'],\n",
       " ['Paulding County, Georgia', '178421', '13', '223'],\n",
       " ['Richmond County, Georgia', '206640', '13', '245'],\n",
       " ['Rockdale County, Georgia', '94984', '13', '247'],\n",
       " ['Spalding County, Georgia', '68919', '13', '255'],\n",
       " ['Troup County, Georgia', '70191', '13', '285'],\n",
       " ['Walker County, Georgia', '68915', '13', '295'],\n",
       " ['Walton County, Georgia', '103065', '13', '297'],\n",
       " ['Whitfield County, Georgia', '103132', '13', '313']]"
      ]
     },
     "execution_count": 17,
     "metadata": {},
     "output_type": "execute_result"
    }
   ],
   "source": [
    "import os\n",
    "import requests\n",
    "import json\n",
    "\n",
    "api_key = os.getenv('CENSUS_API_KEY')\n",
    "#reference: https://www.census.gov/data/developers/guidance/api-user-guide/example-api-queries.html\n",
    "url = f'https://api.census.gov/data/2022/acs/acs1?get=NAME,B01001_001E&for=county:*&in=state:13&key={api_key}'\n",
    "\n",
    "response = requests.get(url)\n",
    "json.loads(response.text)\n"
   ]
  },
  {
   "cell_type": "markdown",
   "metadata": {},
   "source": [
    "# Using parsons.Census"
   ]
  },
  {
   "cell_type": "code",
   "execution_count": 9,
   "metadata": {},
   "outputs": [
    {
     "name": "stdout",
     "output_type": "stream",
     "text": [
      "{'NAME': 'Barrow County, Georgia', 'B01001_001E': '89299', 'state': '13', 'county': '013'}\n",
      "{'NAME': 'Bartow County, Georgia', 'B01001_001E': '112816', 'state': '13', 'county': '015'}\n",
      "{'NAME': 'Bibb County, Georgia', 'B01001_001E': '156197', 'state': '13', 'county': '021'}\n",
      "{'NAME': 'Bulloch County, Georgia', 'B01001_001E': '83059', 'state': '13', 'county': '031'}\n",
      "{'NAME': 'Carroll County, Georgia', 'B01001_001E': '124592', 'state': '13', 'county': '045'}\n",
      "...\n"
     ]
    }
   ],
   "source": [
    "from parsons import Census\n",
    "import os\n",
    "\n",
    "year = '2022'\n",
    "dataset_acronym = '/acs/acs1'\n",
    "#reference: https://api.census.gov/data/2019/acs/acs1/variables.html \n",
    "variables = 'NAME,B01001_001E'\n",
    "#pass a county wildcard and mandate state of Georgia (census state # 13)\n",
    "#reference: https://api.census.gov/data/2019/acs/acs1/examples.html\n",
    "location = 'county:*&in=state:13'\n",
    "client = Census(api_key = os.getenv('CENSUS_API_KEY'))\n",
    "t = client.get_census(year, dataset_acronym, variables, location)\n",
    "print(t)\n"
   ]
  }
 ],
 "metadata": {
  "kernelspec": {
   "display_name": ".venv",
   "language": "python",
   "name": "python3"
  },
  "language_info": {
   "codemirror_mode": {
    "name": "ipython",
    "version": 3
   },
   "file_extension": ".py",
   "mimetype": "text/x-python",
   "name": "python",
   "nbconvert_exporter": "python",
   "pygments_lexer": "ipython3",
   "version": "3.10.0"
  }
 },
 "nbformat": 4,
 "nbformat_minor": 2
}
