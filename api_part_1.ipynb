{
 "cells": [
  {
   "cell_type": "markdown",
   "metadata": {},
   "source": [
    "# Assignment 1:\n",
    "\n",
    "Using the following IP addresses: \n",
    "24.48.0.1, 172.217.255.255, 203.0.113.0, 8.8.8.8, 172.217.0.0 \\\n",
    "Write a program that retrieves only the following information for each address: \n",
    "- Country\n",
    "- City\n",
    "- Zip\n",
    "- ISP \n",
    "\n",
    "And save the information as a CSV file.\n"
   ]
  },
  {
   "cell_type": "code",
   "execution_count": 27,
   "metadata": {},
   "outputs": [],
   "source": [
    "import requests\n",
    "\n",
    "\n",
    "csv_info = \"ip_address,country,city,zip,isp\"\n",
    "\n",
    "for query in [\"24.48.0.1\", \"172.217.255.255\", \"203.0.113.0\", \"8.8.8.8\", \"172.217.0.0\"]:\n",
    "    \n",
    "    response = requests.get(url = f\"http://ip-api.com/json/{query}?fields=country,city,zip,isp\").json()\n",
    "\n",
    "    country = response[\"country\"]\n",
    "    city = response[\"city\"]\n",
    "    zip = response[\"zip\"]\n",
    "    isp = response[\"isp\"]\n",
    "\n",
    "    csv_info += f\"{query},{country},{city},{zip},{isp}\\n\"\n",
    "\n",
    "with open(\"ip_info.csv\", \"w\") as f:\n",
    "    f.write(csv_info)\n",
    "\n"
   ]
  }
 ],
 "metadata": {
  "kernelspec": {
   "display_name": "Python 3",
   "language": "python",
   "name": "python3"
  },
  "language_info": {
   "codemirror_mode": {
    "name": "ipython",
    "version": 3
   },
   "file_extension": ".py",
   "mimetype": "text/x-python",
   "name": "python",
   "nbconvert_exporter": "python",
   "pygments_lexer": "ipython3",
   "version": "3.10.13"
  }
 },
 "nbformat": 4,
 "nbformat_minor": 2
}
